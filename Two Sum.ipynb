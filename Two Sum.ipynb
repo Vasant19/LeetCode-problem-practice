{
 "cells": [
  {
   "cell_type": "markdown",
   "id": "0ec529a9",
   "metadata": {},
   "source": [
    "### 1. Two Sum"
   ]
  },
  {
   "cell_type": "code",
   "execution_count": 2,
   "id": "6dbeea26",
   "metadata": {},
   "outputs": [
    {
     "name": "stdout",
     "output_type": "stream",
     "text": [
      "Enter your numbers separated by commas: 1,5,6,7\n",
      "Enter your target: 6\n",
      "The indices of the two numbers that add up to the target are: [0, 1]\n"
     ]
    }
   ],
   "source": [
    "class xyz1:\n",
    "    def myfunc1(self):\n",
    "        # Take input from the user\n",
    "        nums_input = input(\"Enter your numbers separated by commas: \")\n",
    "        numbers_list = nums_input.split(',')\n",
    "        numbers_list = [int(num) for num in numbers_list]\n",
    "        target = int(input(\"Enter your target: \"))\n",
    "        \n",
    "        # Use a dictionary to store the complement of each number\n",
    "        num_index_map = {}\n",
    "        \n",
    "        # Iterate over the numbers_list to find the indices\n",
    "        for i, num in enumerate(numbers_list):\n",
    "            complement = target - num\n",
    "            # Check if the complement exists in the dictionary\n",
    "            if complement in num_index_map:\n",
    "                # If found, return the indices\n",
    "                return [num_index_map[complement], i]\n",
    "            # Otherwise, store the current number and its index in the dictionary\n",
    "            num_index_map[num] = i\n",
    "        \n",
    "        # If no solution is found, return None\n",
    "        return None\n",
    "\n",
    "func1 = xyz1()\n",
    "\n",
    "result = func1.myfunc1()\n",
    "\n",
    "if result:\n",
    "    print(f\"The indices of the two numbers that add up to the target are: {result}\")\n",
    "else:\n",
    "    print(\"No solution found.\")\n"
   ]
  },
  {
   "cell_type": "code",
   "execution_count": 16,
   "id": "776a6254",
   "metadata": {},
   "outputs": [],
   "source": [
    "def delta(x): \n",
    "    \n",
    "    if x == 0: \n",
    "        y = 1 \n",
    "    else: \n",
    "        y = 0 \n",
    "    return y"
   ]
  },
  {
   "cell_type": "code",
   "execution_count": 17,
   "id": "e890a490",
   "metadata": {},
   "outputs": [
    {
     "name": "stdout",
     "output_type": "stream",
     "text": [
      "2\n"
     ]
    }
   ],
   "source": [
    "a = 1 \n",
    "\n",
    "\n",
    "def do(x): \n",
    "    return x + a \n",
    "\n",
    "\n",
    "print(do(1))\n"
   ]
  },
  {
   "cell_type": "code",
   "execution_count": 53,
   "id": "717daea7",
   "metadata": {},
   "outputs": [
    {
     "name": "stdout",
     "output_type": "stream",
     "text": [
      "[11  4 10]\n",
      "[22  8 20]\n",
      "474\n",
      "<class 'numpy.ndarray'>\n",
      "<class 'numpy.ndarray'>\n",
      "[[2 4 6]\n",
      " [5 7 9]]\n"
     ]
    }
   ],
   "source": [
    "import numpy as np\n",
    "a = np.array([10,2,8])\n",
    "b = np.array([1,2,2])\n",
    "c = a + b\n",
    "print(c)\n",
    "type(a)\n",
    "d = 2 * c\n",
    "print(d)\n",
    "e =np.dot(c,d)\n",
    "print(e)\n",
    "\n",
    "a.shape\n",
    "\n",
    "f = np.array([[1,2,3],[4,5,6]])\n",
    "g = np.array([[1,2,3]])\n",
    "print(type(f))\n",
    "print(type(g))\n",
    "h = g + f\n",
    "print(h)"
   ]
  },
  {
   "cell_type": "code",
   "execution_count": 59,
   "id": "e2aadb8a",
   "metadata": {},
   "outputs": [
    {
     "data": {
      "text/plain": [
       "array([[2, 1],\n",
       "       [1, 2]])"
      ]
     },
     "execution_count": 59,
     "metadata": {},
     "output_type": "execute_result"
    }
   ],
   "source": [
    "X=np.array([[1,0],[0,1]]) \n",
    "\n",
    "Y=np.array([[2,1],[1,2]]) \n",
    "\n",
    "Z=np.dot(X,Y) \n",
    "Z"
   ]
  }
 ],
 "metadata": {
  "kernelspec": {
   "display_name": "Python 3 (ipykernel)",
   "language": "python",
   "name": "python3"
  },
  "language_info": {
   "codemirror_mode": {
    "name": "ipython",
    "version": 3
   },
   "file_extension": ".py",
   "mimetype": "text/x-python",
   "name": "python",
   "nbconvert_exporter": "python",
   "pygments_lexer": "ipython3",
   "version": "3.11.5"
  }
 },
 "nbformat": 4,
 "nbformat_minor": 5
}
