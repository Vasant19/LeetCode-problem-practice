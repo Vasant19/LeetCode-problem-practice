{
 "cells": [
  {
   "cell_type": "markdown",
   "metadata": {},
   "source": [
    "# LINKED LISTS"
   ]
  },
  {
   "cell_type": "code",
   "execution_count": null,
   "metadata": {},
   "outputs": [],
   "source": [
    "# Singly Linked List \n",
    "class SinglyNode:\n",
    "    def __init__(self, value):\n",
    "        self.value = value\n",
    "        self.next = None\n",
    "\n",
    "    def __str__(self):\n",
    "        return str(self.value)\n",
    "\n",
    "   \n",
    "Head = SinglyNode(1)\n",
    "A = SinglyNode(3)\n",
    "B = SinglyNode(4)\n",
    "C = SinglyNode(7)\n",
    "\n",
    "Head.next = A\n",
    "A.next = B\n",
    "B.next = C\n",
    "\n",
    "\n",
    "# Traverse the linked list O(n)\n",
    "current = Head\n",
    "while current: \n",
    "    print(f\"Traversing the linked list: {current}\")\n",
    "    current = current.next"
   ]
  },
  {
   "cell_type": "code",
   "execution_count": null,
   "metadata": {},
   "outputs": [],
   "source": [
    "# Display the linked list O(n)\n",
    "def display_linked_list(head):\n",
    "    current = head\n",
    "    elements = []\n",
    "    while current: \n",
    "        elements.append(str(current.value))\n",
    "        current = current.next\n",
    "    print(\" -> \".join(elements))\n",
    "\n",
    "print(\"Displaying the linked list:\", end=\" \")\n",
    "display_linked_list(Head)\n",
    "\n",
    "# Search for a value in the linked list O(n)\n",
    "def search_linked_list(head, target):\n",
    "    current = head\n",
    "    while current: \n",
    "        if current.value == target:\n",
    "            return True\n",
    "        current = current.next\n",
    "    return False\n",
    "\n",
    "print(f\"Search for a value in the linked list : {search_linked_list(Head, 4)}\")\n",
    "print(f\"Search for a value in the linked list : {search_linked_list(Head, 2)}\") "
   ]
  },
  {
   "cell_type": "code",
   "execution_count": null,
   "metadata": {},
   "outputs": [],
   "source": [
    "# Doubly Linked List Dual connected list \n",
    "class DoublyNode:\n",
    "    def __init__(self, value, next=None, prev=None):\n",
    "        self.value = value\n",
    "        self.next = next\n",
    "        self.prev = prev\n",
    "        \n",
    "    def __str__(self):\n",
    "        return str(self.value)\n",
    "        \n",
    "\n",
    "head = tail = DoublyNode(1)\n",
    "\n",
    "# Display the doubly linked list O(n)\n",
    "def display_doubly_linked_list(head):\n",
    "    current = head\n",
    "    elements = []\n",
    "    while current:\n",
    "        elements.append(str(current.value))\n",
    "        current = current.next\n",
    "    print('<->'.join(elements))\n",
    "    \n",
    "display_doubly_linked_list(head)\n"
   ]
  },
  {
   "cell_type": "code",
   "execution_count": null,
   "metadata": {},
   "outputs": [],
   "source": [
    "# Insert at the beginning of the linked list O(1)\n",
    "def insert_at_beginning(head,tail,val):\n",
    "    new_node = DoublyNode(val, next=head)\n",
    "    head.prev = new_node\n",
    "    return new_node, tail\n",
    "\n",
    "head, tail = insert_at_beginning(head, tail ,3)\n",
    "display_doubly_linked_list(head)"
   ]
  },
  {
   "cell_type": "code",
   "execution_count": null,
   "metadata": {},
   "outputs": [],
   "source": [
    "# Insert at the end of the linked list O(1)\n",
    "def insert_at_end(head,tail,val):\n",
    "    new_node = DoublyNode(val, prev=tail)\n",
    "    tail.next = new_node\n",
    "    return head, new_node\n",
    "\n",
    "head, tail = insert_at_end(head, tail, 7)\n",
    "display_doubly_linked_list(head)"
   ]
  },
  {
   "cell_type": "markdown",
   "metadata": {},
   "source": [
    "# RECURSION"
   ]
  },
  {
   "cell_type": "code",
   "execution_count": null,
   "metadata": {},
   "outputs": [],
   "source": [
    "from functools import lru_cache\n",
    "\n",
    "# Time Complexity O(2^n) , Space Complexity O(N)\n",
    "@lru_cache(maxsize=None)\n",
    "def f(n):\n",
    "    if not isinstance(n, int):\n",
    "        raise TypeError(\"Input must be an integer\")\n",
    "    if n < 0:\n",
    "        raise ValueError(\"Input must be non-negative\")\n",
    "    if n == 0:\n",
    "        return 0\n",
    "    elif n == 1:\n",
    "        return 1\n",
    "    return f(n - 1) + f(n - 2)\n",
    "\n",
    "\n",
    "mynum = 12\n",
    "try:\n",
    "    print(f(mynum))\n",
    "except (TypeError, ValueError) as e:\n",
    "    print(f\"Error: {e}\")"
   ]
  },
  {
   "cell_type": "markdown",
   "metadata": {},
   "source": [
    "# LINEAR SEARCH"
   ]
  },
  {
   "cell_type": "code",
   "execution_count": null,
   "metadata": {},
   "outputs": [],
   "source": [
    "from typing import Optional\n",
    "\n",
    "def linear_search(arr: list, target: int) -> int:\n",
    "    n = len(arr)\n",
    "    for i in range(n):\n",
    "        if arr[i] == target:\n",
    "            return i\n",
    "    return -1 #Not found\n",
    "    \n",
    "\n",
    "ls_arr = [1,2,3,4,6]\n",
    "ls_arr_target = 3\n",
    "linear_search(ls_arr, ls_arr_target)"
   ]
  },
  {
   "cell_type": "markdown",
   "metadata": {},
   "source": [
    "# BINARY SEARCH"
   ]
  },
  {
   "cell_type": "code",
   "execution_count": 49,
   "metadata": {},
   "outputs": [
    {
     "name": "stdout",
     "output_type": "stream",
     "text": [
      "Index position for the value is: \n"
     ]
    },
    {
     "data": {
      "text/plain": [
       "2"
      ]
     },
     "execution_count": 49,
     "metadata": {},
     "output_type": "execute_result"
    }
   ],
   "source": [
    "# For sorted arrays in ascending order only\n",
    "# Time Complexity: O(log n), Space Complexity: O(1)\n",
    "def binary_search(arr: list, target: int) -> int:\n",
    "    n = len(arr)\n",
    "    start = 0\n",
    "    end = n - 1\n",
    "    while start <= end:\n",
    "        mid = (start + end) // 2\n",
    "        if arr[mid] == target:\n",
    "            print(f\"Index position for the value is: \") \n",
    "            return mid\n",
    "        elif arr[mid] < target:\n",
    "            start = mid + 1\n",
    "        else:\n",
    "            end = mid - 1\n",
    "    return -1 #Notfound\n",
    "\n",
    "bs_arr = [1,3,6,9,13]\n",
    "bs_arr_target = 6\n",
    "\n",
    "binary_search(bs_arr,bs_arr_target)\n"
   ]
  }
 ],
 "metadata": {
  "kernelspec": {
   "display_name": "aisd_env",
   "language": "python",
   "name": "python3"
  },
  "language_info": {
   "codemirror_mode": {
    "name": "ipython",
    "version": 3
   },
   "file_extension": ".py",
   "mimetype": "text/x-python",
   "name": "python",
   "nbconvert_exporter": "python",
   "pygments_lexer": "ipython3",
   "version": "3.11.11"
  }
 },
 "nbformat": 4,
 "nbformat_minor": 2
}
