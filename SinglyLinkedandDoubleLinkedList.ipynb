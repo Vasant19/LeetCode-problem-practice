{
 "cells": [
  {
   "cell_type": "code",
   "execution_count": null,
   "metadata": {},
   "outputs": [],
   "source": [
    "# Singly Linked List \n",
    "class SinglyNode:\n",
    "    def __init__(self, value):\n",
    "        self.value = value\n",
    "        self.next = None\n",
    "\n",
    "    def __str__(self):\n",
    "        return str(self.value)\n",
    "\n",
    "   \n",
    "Head = SinglyNode(1)\n",
    "A = SinglyNode(3)\n",
    "B = SinglyNode(4)\n",
    "C = SinglyNode(7)\n",
    "\n",
    "Head.next = A\n",
    "A.next = B\n",
    "B.next = C\n",
    "\n",
    "\n",
    "# Traverse the linked list O(n)\n",
    "current = Head\n",
    "while current: \n",
    "    print(f\"Traversing the linked list: {current}\")\n",
    "    current = current.next\n",
    "\n",
    "# Display the linked list O(n)\n",
    "def display_linked_list(head):\n",
    "    current = head\n",
    "    elements = []\n",
    "    while current: \n",
    "        elements.append(str(current.value))\n",
    "        current = current.next\n",
    "    print(\" -> \".join(elements))\n",
    "\n",
    "print(\"Displaying the linked list:\", end=\" \")\n",
    "display_linked_list(Head)\n",
    "\n",
    "# Search for a value in the linked list O(n)\n",
    "def search_linked_list(head, target):\n",
    "    current = head\n",
    "    while current: \n",
    "        if current.value == target:\n",
    "            return True\n",
    "        current = current.next\n",
    "    return False\n",
    "\n",
    "print(f\"Search for a value in the linked list : {search_linked_list(Head, 4)}\")\n",
    "print(f\"Search for a value in the linked list : {search_linked_list(Head, 2)}\")\n"
   ]
  },
  {
   "cell_type": "code",
   "execution_count": 21,
   "metadata": {},
   "outputs": [
    {
     "name": "stdout",
     "output_type": "stream",
     "text": [
      "1\n"
     ]
    }
   ],
   "source": [
    "# Doubly Linked List Dual connected list \n",
    "class DoublyNode:\n",
    "    def __init__(self, value, next=None, prev=None):\n",
    "        self.value = value\n",
    "        self.next = next\n",
    "        self.prev = prev\n",
    "        \n",
    "    def __str__(self):\n",
    "        return str(self.value)\n",
    "        \n",
    "\n",
    "head = tail = DoublyNode(1)\n",
    "\n",
    "# Display the doubly linked list O(n)\n",
    "def display_doubly_linked_list(head):\n",
    "    current = head\n",
    "    elements = []\n",
    "    while current:\n",
    "        elements.append(str(current.value))\n",
    "        current = current.next\n",
    "    print('<->'.join(elements))\n",
    "    \n",
    "display_doubly_linked_list(head)\n"
   ]
  },
  {
   "cell_type": "code",
   "execution_count": 22,
   "metadata": {},
   "outputs": [
    {
     "name": "stdout",
     "output_type": "stream",
     "text": [
      "3<->1\n"
     ]
    }
   ],
   "source": [
    "# Insert at the beginning of the linked list O(1)\n",
    "def insert_at_beginning(head,tail,val):\n",
    "    new_node = DoublyNode(val, next=head)\n",
    "    head.prev = new_node\n",
    "    return new_node, tail\n",
    "\n",
    "head, tail = insert_at_beginning(head, tail ,3)\n",
    "display_doubly_linked_list(head)"
   ]
  },
  {
   "cell_type": "code",
   "execution_count": 23,
   "metadata": {},
   "outputs": [
    {
     "name": "stdout",
     "output_type": "stream",
     "text": [
      "3<->1<->7\n"
     ]
    }
   ],
   "source": [
    "# Insert at the end of the linked list O(1)\n",
    "def insert_at_end(head,tail,val):\n",
    "    new_node = DoublyNode(val, prev=tail)\n",
    "    tail.next = new_node\n",
    "    return head, new_node\n",
    "\n",
    "head, tail = insert_at_end(head, tail, 7)\n",
    "display_doubly_linked_list(head)"
   ]
  }
 ],
 "metadata": {
  "kernelspec": {
   "display_name": "aisd_env",
   "language": "python",
   "name": "python3"
  },
  "language_info": {
   "codemirror_mode": {
    "name": "ipython",
    "version": 3
   },
   "file_extension": ".py",
   "mimetype": "text/x-python",
   "name": "python",
   "nbconvert_exporter": "python",
   "pygments_lexer": "ipython3",
   "version": "3.11.11"
  }
 },
 "nbformat": 4,
 "nbformat_minor": 2
}
